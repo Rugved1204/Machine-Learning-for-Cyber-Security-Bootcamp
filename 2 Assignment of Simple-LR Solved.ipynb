{
 "cells": [
  {
   "cell_type": "markdown",
   "id": "eee1f82b",
   "metadata": {
    "id": "eee1f82b"
   },
   "source": [
    "<div class=\"alert alert-block alert-warning\">\n",
    "    <span style='color:teal;font-size: 30px'><center><b>Simple Linear Regression</b></center> </span>\n",
    "</div>"
   ]
  },
  {
   "cell_type": "markdown",
   "id": "1a5f9aa3",
   "metadata": {
    "id": "1a5f9aa3"
   },
   "source": [
    "<div class=\"alert alert-block alert-info\">\n",
    "    <b> 1. Import the libraries </b>\n",
    "</div>"
   ]
  },
  {
   "cell_type": "code",
   "execution_count": 1,
   "id": "6c4a6c53",
   "metadata": {
    "id": "6c4a6c53"
   },
   "outputs": [],
   "source": [
    "import pandas as pd\n",
    "import numpy as np\n",
    "import matplotlib.pyplot as plt"
   ]
  },
  {
   "cell_type": "markdown",
   "id": "c21d707e",
   "metadata": {
    "id": "c21d707e"
   },
   "source": [
    "<div class=\"alert alert-block alert-info\">\n",
    "    <b> 2. Load the Dataset </b>\n",
    "</div>"
   ]
  },
  {
   "cell_type": "code",
   "execution_count": 4,
   "id": "kwUD--hdMH4l",
   "metadata": {
    "colab": {
     "base_uri": "https://localhost:8080/",
     "height": 1000
    },
    "executionInfo": {
     "elapsed": 745,
     "status": "ok",
     "timestamp": 1738563264417,
     "user": {
      "displayName": "someshwar undare",
      "userId": "15550385954223999838"
     },
     "user_tz": -330
    },
    "id": "kwUD--hdMH4l",
    "outputId": "bf72a11c-fcd7-4550-ae46-ffde05a6926d"
   },
   "outputs": [
    {
     "data": {
      "text/html": [
       "<div>\n",
       "<style scoped>\n",
       "    .dataframe tbody tr th:only-of-type {\n",
       "        vertical-align: middle;\n",
       "    }\n",
       "\n",
       "    .dataframe tbody tr th {\n",
       "        vertical-align: top;\n",
       "    }\n",
       "\n",
       "    .dataframe thead th {\n",
       "        text-align: right;\n",
       "    }\n",
       "</style>\n",
       "<table border=\"1\" class=\"dataframe\">\n",
       "  <thead>\n",
       "    <tr style=\"text-align: right;\">\n",
       "      <th></th>\n",
       "      <th>Experience Years</th>\n",
       "      <th>Salary</th>\n",
       "    </tr>\n",
       "  </thead>\n",
       "  <tbody>\n",
       "    <tr>\n",
       "      <th>0</th>\n",
       "      <td>1.1</td>\n",
       "      <td>39343</td>\n",
       "    </tr>\n",
       "    <tr>\n",
       "      <th>1</th>\n",
       "      <td>1.2</td>\n",
       "      <td>42774</td>\n",
       "    </tr>\n",
       "    <tr>\n",
       "      <th>2</th>\n",
       "      <td>1.3</td>\n",
       "      <td>46205</td>\n",
       "    </tr>\n",
       "    <tr>\n",
       "      <th>3</th>\n",
       "      <td>1.5</td>\n",
       "      <td>37731</td>\n",
       "    </tr>\n",
       "    <tr>\n",
       "      <th>4</th>\n",
       "      <td>2.0</td>\n",
       "      <td>43525</td>\n",
       "    </tr>\n",
       "    <tr>\n",
       "      <th>5</th>\n",
       "      <td>2.2</td>\n",
       "      <td>39891</td>\n",
       "    </tr>\n",
       "    <tr>\n",
       "      <th>6</th>\n",
       "      <td>2.5</td>\n",
       "      <td>48266</td>\n",
       "    </tr>\n",
       "    <tr>\n",
       "      <th>7</th>\n",
       "      <td>2.9</td>\n",
       "      <td>56642</td>\n",
       "    </tr>\n",
       "    <tr>\n",
       "      <th>8</th>\n",
       "      <td>3.0</td>\n",
       "      <td>60150</td>\n",
       "    </tr>\n",
       "    <tr>\n",
       "      <th>9</th>\n",
       "      <td>3.2</td>\n",
       "      <td>54445</td>\n",
       "    </tr>\n",
       "    <tr>\n",
       "      <th>10</th>\n",
       "      <td>3.2</td>\n",
       "      <td>64445</td>\n",
       "    </tr>\n",
       "    <tr>\n",
       "      <th>11</th>\n",
       "      <td>3.5</td>\n",
       "      <td>60000</td>\n",
       "    </tr>\n",
       "    <tr>\n",
       "      <th>12</th>\n",
       "      <td>3.7</td>\n",
       "      <td>57189</td>\n",
       "    </tr>\n",
       "    <tr>\n",
       "      <th>13</th>\n",
       "      <td>3.8</td>\n",
       "      <td>60200</td>\n",
       "    </tr>\n",
       "    <tr>\n",
       "      <th>14</th>\n",
       "      <td>3.9</td>\n",
       "      <td>63218</td>\n",
       "    </tr>\n",
       "    <tr>\n",
       "      <th>15</th>\n",
       "      <td>4.0</td>\n",
       "      <td>55794</td>\n",
       "    </tr>\n",
       "    <tr>\n",
       "      <th>16</th>\n",
       "      <td>4.0</td>\n",
       "      <td>56957</td>\n",
       "    </tr>\n",
       "    <tr>\n",
       "      <th>17</th>\n",
       "      <td>4.1</td>\n",
       "      <td>57081</td>\n",
       "    </tr>\n",
       "    <tr>\n",
       "      <th>18</th>\n",
       "      <td>4.3</td>\n",
       "      <td>59095</td>\n",
       "    </tr>\n",
       "    <tr>\n",
       "      <th>19</th>\n",
       "      <td>4.5</td>\n",
       "      <td>61111</td>\n",
       "    </tr>\n",
       "    <tr>\n",
       "      <th>20</th>\n",
       "      <td>4.7</td>\n",
       "      <td>64500</td>\n",
       "    </tr>\n",
       "    <tr>\n",
       "      <th>21</th>\n",
       "      <td>4.9</td>\n",
       "      <td>67938</td>\n",
       "    </tr>\n",
       "    <tr>\n",
       "      <th>22</th>\n",
       "      <td>5.1</td>\n",
       "      <td>66029</td>\n",
       "    </tr>\n",
       "    <tr>\n",
       "      <th>23</th>\n",
       "      <td>5.3</td>\n",
       "      <td>83088</td>\n",
       "    </tr>\n",
       "    <tr>\n",
       "      <th>24</th>\n",
       "      <td>5.5</td>\n",
       "      <td>82200</td>\n",
       "    </tr>\n",
       "    <tr>\n",
       "      <th>25</th>\n",
       "      <td>5.9</td>\n",
       "      <td>81363</td>\n",
       "    </tr>\n",
       "    <tr>\n",
       "      <th>26</th>\n",
       "      <td>6.0</td>\n",
       "      <td>93940</td>\n",
       "    </tr>\n",
       "    <tr>\n",
       "      <th>27</th>\n",
       "      <td>6.2</td>\n",
       "      <td>91000</td>\n",
       "    </tr>\n",
       "    <tr>\n",
       "      <th>28</th>\n",
       "      <td>6.5</td>\n",
       "      <td>90000</td>\n",
       "    </tr>\n",
       "    <tr>\n",
       "      <th>29</th>\n",
       "      <td>6.8</td>\n",
       "      <td>91738</td>\n",
       "    </tr>\n",
       "    <tr>\n",
       "      <th>30</th>\n",
       "      <td>7.1</td>\n",
       "      <td>98273</td>\n",
       "    </tr>\n",
       "    <tr>\n",
       "      <th>31</th>\n",
       "      <td>7.9</td>\n",
       "      <td>101302</td>\n",
       "    </tr>\n",
       "    <tr>\n",
       "      <th>32</th>\n",
       "      <td>8.2</td>\n",
       "      <td>113812</td>\n",
       "    </tr>\n",
       "    <tr>\n",
       "      <th>33</th>\n",
       "      <td>8.5</td>\n",
       "      <td>111620</td>\n",
       "    </tr>\n",
       "    <tr>\n",
       "      <th>34</th>\n",
       "      <td>8.7</td>\n",
       "      <td>109431</td>\n",
       "    </tr>\n",
       "    <tr>\n",
       "      <th>35</th>\n",
       "      <td>9.0</td>\n",
       "      <td>105582</td>\n",
       "    </tr>\n",
       "    <tr>\n",
       "      <th>36</th>\n",
       "      <td>9.5</td>\n",
       "      <td>116969</td>\n",
       "    </tr>\n",
       "    <tr>\n",
       "      <th>37</th>\n",
       "      <td>9.6</td>\n",
       "      <td>112635</td>\n",
       "    </tr>\n",
       "    <tr>\n",
       "      <th>38</th>\n",
       "      <td>10.3</td>\n",
       "      <td>122391</td>\n",
       "    </tr>\n",
       "    <tr>\n",
       "      <th>39</th>\n",
       "      <td>10.5</td>\n",
       "      <td>121872</td>\n",
       "    </tr>\n",
       "  </tbody>\n",
       "</table>\n",
       "</div>"
      ],
      "text/plain": [
       "    Experience Years  Salary\n",
       "0                1.1   39343\n",
       "1                1.2   42774\n",
       "2                1.3   46205\n",
       "3                1.5   37731\n",
       "4                2.0   43525\n",
       "5                2.2   39891\n",
       "6                2.5   48266\n",
       "7                2.9   56642\n",
       "8                3.0   60150\n",
       "9                3.2   54445\n",
       "10               3.2   64445\n",
       "11               3.5   60000\n",
       "12               3.7   57189\n",
       "13               3.8   60200\n",
       "14               3.9   63218\n",
       "15               4.0   55794\n",
       "16               4.0   56957\n",
       "17               4.1   57081\n",
       "18               4.3   59095\n",
       "19               4.5   61111\n",
       "20               4.7   64500\n",
       "21               4.9   67938\n",
       "22               5.1   66029\n",
       "23               5.3   83088\n",
       "24               5.5   82200\n",
       "25               5.9   81363\n",
       "26               6.0   93940\n",
       "27               6.2   91000\n",
       "28               6.5   90000\n",
       "29               6.8   91738\n",
       "30               7.1   98273\n",
       "31               7.9  101302\n",
       "32               8.2  113812\n",
       "33               8.5  111620\n",
       "34               8.7  109431\n",
       "35               9.0  105582\n",
       "36               9.5  116969\n",
       "37               9.6  112635\n",
       "38              10.3  122391\n",
       "39              10.5  121872"
      ]
     },
     "execution_count": 4,
     "metadata": {},
     "output_type": "execute_result"
    }
   ],
   "source": [
    "df = pd.read_csv('https://github.com/ybifoundation/Dataset/raw/main/Salary%20Data.csv')\n",
    "df"
   ]
  },
  {
   "cell_type": "code",
   "execution_count": 6,
   "id": "05e83b10",
   "metadata": {
    "id": "05e83b10"
   },
   "outputs": [
    {
     "name": "stdout",
     "output_type": "stream",
     "text": [
      "   Experience Years\n",
      "0               1.1\n",
      "1               1.2\n",
      "2               1.3\n",
      "3               1.5\n",
      "4               2.0\n",
      "0    39343\n",
      "1    42774\n",
      "2    46205\n",
      "3    37731\n",
      "4    43525\n",
      "Name: Salary, dtype: int64\n"
     ]
    }
   ],
   "source": [
    "# Extract the input and output values from dataset\n",
    "# write your code here\n",
    "\n",
    "# Extract input and output values\n",
    "X = df[['Experience Years']]  # Use the corrected column name\n",
    "y = df['Salary']  # Use the corrected column name\n",
    "\n",
    "# Display first few rows\n",
    "print(X.head())\n",
    "print(y.head())"
   ]
  },
  {
   "cell_type": "code",
   "execution_count": 7,
   "id": "SbO9aBLSMuKd",
   "metadata": {
    "colab": {
     "base_uri": "https://localhost:8080/"
    },
    "executionInfo": {
     "elapsed": 373,
     "status": "ok",
     "timestamp": 1738563277241,
     "user": {
      "displayName": "someshwar undare",
      "userId": "15550385954223999838"
     },
     "user_tz": -330
    },
    "id": "SbO9aBLSMuKd",
    "outputId": "5afd971b-3e65-4522-ee9c-f2fa30293f9d"
   },
   "outputs": [
    {
     "name": "stdout",
     "output_type": "stream",
     "text": [
      "    Experience Years\n",
      "0                1.1\n",
      "1                1.2\n",
      "2                1.3\n",
      "3                1.5\n",
      "4                2.0\n",
      "5                2.2\n",
      "6                2.5\n",
      "7                2.9\n",
      "8                3.0\n",
      "9                3.2\n",
      "10               3.2\n",
      "11               3.5\n",
      "12               3.7\n",
      "13               3.8\n",
      "14               3.9\n",
      "15               4.0\n",
      "16               4.0\n",
      "17               4.1\n",
      "18               4.3\n",
      "19               4.5\n",
      "20               4.7\n",
      "21               4.9\n",
      "22               5.1\n",
      "23               5.3\n",
      "24               5.5\n",
      "25               5.9\n",
      "26               6.0\n",
      "27               6.2\n",
      "28               6.5\n",
      "29               6.8\n",
      "30               7.1\n",
      "31               7.9\n",
      "32               8.2\n",
      "33               8.5\n",
      "34               8.7\n",
      "35               9.0\n",
      "36               9.5\n",
      "37               9.6\n",
      "38              10.3\n",
      "39              10.5\n"
     ]
    }
   ],
   "source": [
    "print(X)"
   ]
  },
  {
   "cell_type": "code",
   "execution_count": 8,
   "id": "0113c555",
   "metadata": {
    "colab": {
     "base_uri": "https://localhost:8080/"
    },
    "executionInfo": {
     "elapsed": 513,
     "status": "ok",
     "timestamp": 1738563280534,
     "user": {
      "displayName": "someshwar undare",
      "userId": "15550385954223999838"
     },
     "user_tz": -330
    },
    "id": "0113c555",
    "outputId": "fd6f7e4e-8f28-497e-9d34-d87e86101f86"
   },
   "outputs": [
    {
     "data": {
      "text/plain": [
       "array([ 39343,  42774,  46205,  37731,  43525,  39891,  48266,  56642,\n",
       "        60150,  54445,  64445,  60000,  57189,  60200,  63218,  55794,\n",
       "        56957,  57081,  59095,  61111,  64500,  67938,  66029,  83088,\n",
       "        82200,  81363,  93940,  91000,  90000,  91738,  98273, 101302,\n",
       "       113812, 111620, 109431, 105582, 116969, 112635, 122391, 121872],\n",
       "      dtype=int64)"
      ]
     },
     "execution_count": 8,
     "metadata": {},
     "output_type": "execute_result"
    }
   ],
   "source": [
    "y = df.iloc[:, 1].values\n",
    "y"
   ]
  },
  {
   "cell_type": "code",
   "execution_count": 9,
   "id": "1affe85b",
   "metadata": {
    "colab": {
     "base_uri": "https://localhost:8080/"
    },
    "executionInfo": {
     "elapsed": 324,
     "status": "ok",
     "timestamp": 1738563284557,
     "user": {
      "displayName": "someshwar undare",
      "userId": "15550385954223999838"
     },
     "user_tz": -330
    },
    "id": "1affe85b",
    "outputId": "99ef528b-ef4d-48f5-f403-fcf8305c966f"
   },
   "outputs": [
    {
     "name": "stdout",
     "output_type": "stream",
     "text": [
      "============================================================\n",
      "NAN values are available: False\n",
      "============================================================\n",
      "There are Experience Years    0\n",
      "Salary              0\n",
      "dtype: int64 NAN values in the Dataset\n",
      "============================================================\n"
     ]
    }
   ],
   "source": [
    "# In case Dataset is large\n",
    "print(\"============================================================\")\n",
    "print(\"NAN values are available:\",df.isnull().values.any())\n",
    "print(\"============================================================\")\n",
    "print(\"There are\",df.isnull().sum(),\"NAN values in the Dataset\")\n",
    "print(\"============================================================\")\n"
   ]
  },
  {
   "cell_type": "markdown",
   "id": "831ece55",
   "metadata": {
    "id": "831ece55"
   },
   "source": [
    "<div class=\"alert alert-block alert-info\">\n",
    "    <b> 3. Handle the Missing Data </b>\n",
    "</div>"
   ]
  },
  {
   "cell_type": "code",
   "execution_count": null,
   "id": "42a88fba",
   "metadata": {
    "id": "42a88fba"
   },
   "outputs": [],
   "source": [
    "from sklearn.impute import SimpleImputer"
   ]
  },
  {
   "cell_type": "code",
   "execution_count": 11,
   "id": "6fa84377",
   "metadata": {
    "id": "6fa84377"
   },
   "outputs": [
    {
     "name": "stdout",
     "output_type": "stream",
     "text": [
      "   YearsExperience   Salary\n",
      "0            1.100  39000.0\n",
      "1            2.200  46000.0\n",
      "2            3.225  57000.0\n",
      "3            4.500  54500.0\n",
      "4            5.100  76000.0\n"
     ]
    }
   ],
   "source": [
    "import numpy as np\n",
    "import pandas as pd\n",
    "from sklearn.impute import SimpleImputer\n",
    "\n",
    "# Sample dataset with missing values\n",
    "data = {'YearsExperience': [1.1, 2.2, np.nan, 4.5, 5.1], \n",
    "        'Salary': [39000, 46000, 57000, np.nan, 76000]}\n",
    "\n",
    "df = pd.DataFrame(data)\n",
    "\n",
    "# Creating the Imputer object using the mean strategy\n",
    "imputer = SimpleImputer(missing_values=np.nan, strategy='mean')\n",
    "\n",
    "# Fitting and transforming the dataset\n",
    "df_imputed = pd.DataFrame(imputer.fit_transform(df), columns=df.columns)\n",
    "\n",
    "# Display the dataset after imputation\n",
    "print(df_imputed)\n"
   ]
  },
  {
   "cell_type": "code",
   "execution_count": null,
   "id": "e9d146ec",
   "metadata": {
    "id": "e9d146ec"
   },
   "outputs": [],
   "source": [
    "import numpy as np\n",
    "from sklearn.impute import SimpleImputer\n",
    "\n",
    "# Sample data with missing values\n",
    "X = np.array([[1, 2, np.nan], [4, np.nan, 6], [7, 8, 9]])\n",
    "\n",
    "# Creating the Imputer object with the mean strategy\n",
    "imputer = SimpleImputer(strategy='mean')\n",
    "\n",
    "# Fitting the data to the imputer object\n",
    "imputer = imputer.fit(X)\n",
    "\n",
    "# Transforming the data to replace missing values\n",
    "X_imputed = imputer.transform(X)\n",
    "\n",
    "# Display the transformed data\n",
    "print(X_imputed)\n"
   ]
  },
  {
   "cell_type": "code",
   "execution_count": 12,
   "id": "e877a437",
   "metadata": {
    "id": "e877a437"
   },
   "outputs": [
    {
     "name": "stdout",
     "output_type": "stream",
     "text": [
      "[[1.  2.  7.5]\n",
      " [4.  5.  6. ]\n",
      " [7.  8.  9. ]]\n"
     ]
    }
   ],
   "source": [
    "import numpy as np\n",
    "from sklearn.impute import SimpleImputer\n",
    "\n",
    "# Sample data with missing values\n",
    "X = np.array([[1, 2, np.nan], [4, np.nan, 6], [7, 8, 9]])\n",
    "\n",
    "# Creating the Imputer object with the mean strategy\n",
    "imputer = SimpleImputer(strategy='mean')\n",
    "\n",
    "# Fitting the imputer to the data (computing the mean)\n",
    "imputer = imputer.fit(X)\n",
    "\n",
    "# Imputing the data (replacing missing values with the computed mean)\n",
    "X = imputer.transform(X)\n",
    "\n",
    "# Display the transformed data\n",
    "print(X)\n"
   ]
  },
  {
   "cell_type": "code",
   "execution_count": 13,
   "id": "14b8984f",
   "metadata": {
    "colab": {
     "base_uri": "https://localhost:8080/"
    },
    "executionInfo": {
     "elapsed": 507,
     "status": "ok",
     "timestamp": 1738563309946,
     "user": {
      "displayName": "someshwar undare",
      "userId": "15550385954223999838"
     },
     "user_tz": -330
    },
    "id": "14b8984f",
    "outputId": "33e7d181-01d0-437e-9ff0-52164446db00",
    "scrolled": true
   },
   "outputs": [
    {
     "name": "stdout",
     "output_type": "stream",
     "text": [
      "Imputed Data : \n",
      " [[1.  2.  7.5]\n",
      " [4.  5.  6. ]\n",
      " [7.  8.  9. ]]\n"
     ]
    }
   ],
   "source": [
    "print(\"Imputed Data : \\n\", X)"
   ]
  },
  {
   "cell_type": "markdown",
   "id": "0e21f85f",
   "metadata": {
    "id": "0e21f85f"
   },
   "source": [
    "<div class=\"alert alert-block alert-info\">\n",
    "    <b> 4. Handle Categorical Data </b>\n",
    "</div>"
   ]
  },
  {
   "cell_type": "code",
   "execution_count": null,
   "id": "94a7a648",
   "metadata": {
    "id": "94a7a648"
   },
   "outputs": [],
   "source": [
    "# No categorical data is present."
   ]
  },
  {
   "cell_type": "markdown",
   "id": "e46d921f",
   "metadata": {
    "id": "e46d921f"
   },
   "source": [
    "<div class=\"alert alert-block alert-info\">\n",
    "    <b> 5. Feature Scaling </b>\n",
    "</div>"
   ]
  },
  {
   "cell_type": "code",
   "execution_count": 14,
   "id": "a049efd0",
   "metadata": {
    "colab": {
     "base_uri": "https://localhost:8080/"
    },
    "executionInfo": {
     "elapsed": 365,
     "status": "ok",
     "timestamp": 1738563316189,
     "user": {
      "displayName": "someshwar undare",
      "userId": "15550385954223999838"
     },
     "user_tz": -330
    },
    "id": "a049efd0",
    "outputId": "51daa15a-ffed-40dc-a962-364f20b04055"
   },
   "outputs": [
    {
     "data": {
      "text/plain": [
       "array([[-1.22474487, -1.22474487,  0.        ],\n",
       "       [ 0.        ,  0.        , -1.22474487],\n",
       "       [ 1.22474487,  1.22474487,  1.22474487]])"
      ]
     },
     "execution_count": 14,
     "metadata": {},
     "output_type": "execute_result"
    }
   ],
   "source": [
    "from sklearn.preprocessing import StandardScaler\n",
    "sc = StandardScaler()\n",
    "X = sc.fit_transform(X)\n",
    "X"
   ]
  },
  {
   "cell_type": "markdown",
   "id": "2d259093",
   "metadata": {
    "id": "2d259093"
   },
   "source": [
    "<div class=\"alert alert-block alert-info\">\n",
    "    <b> 6. Split the dataset </b>\n",
    "</div>"
   ]
  },
  {
   "cell_type": "code",
   "execution_count": 15,
   "id": "0ca4d7ee",
   "metadata": {
    "id": "0ca4d7ee"
   },
   "outputs": [
    {
     "name": "stdout",
     "output_type": "stream",
     "text": [
      "Training Data:\n",
      " [[4. 5. 6.]\n",
      " [7. 8. 9.]]\n",
      "\n",
      "Testing Data:\n",
      " [[1.  2.  7.5]]\n"
     ]
    }
   ],
   "source": [
    "# Split the data into 2 parts for training and testing\n",
    "# write your code here\n",
    "import numpy as np\n",
    "from sklearn.model_selection import train_test_split\n",
    "from sklearn.impute import SimpleImputer\n",
    "\n",
    "# Sample data with missing values\n",
    "X = np.array([[1, 2, np.nan], [4, np.nan, 6], [7, 8, 9]])\n",
    "\n",
    "# Creating the Imputer object with the mean strategy\n",
    "imputer = SimpleImputer(strategy='mean')\n",
    "\n",
    "# Fitting the imputer to the data (computing the mean)\n",
    "imputer = imputer.fit(X)\n",
    "\n",
    "# Imputing the data (replacing missing values with the computed mean)\n",
    "X = imputer.transform(X)\n",
    "\n",
    "# Split the data into training and testing sets (80% train, 20% test)\n",
    "X_train, X_test = train_test_split(X, test_size=0.2, random_state=42)\n",
    "\n",
    "# Display the results\n",
    "print(\"Training Data:\\n\", X_train)\n",
    "print(\"\\nTesting Data:\\n\", X_test)\n"
   ]
  },
  {
   "cell_type": "code",
   "execution_count": 17,
   "id": "f1e05dc0",
   "metadata": {
    "colab": {
     "base_uri": "https://localhost:8080/"
    },
    "executionInfo": {
     "elapsed": 351,
     "status": "ok",
     "timestamp": 1738563320980,
     "user": {
      "displayName": "someshwar undare",
      "userId": "15550385954223999838"
     },
     "user_tz": -330
    },
    "id": "f1e05dc0",
    "outputId": "059f134c-f820-41dc-e887-c253ef08dd67"
   },
   "outputs": [
    {
     "name": "stdout",
     "output_type": "stream",
     "text": [
      "X_train dataset (2, 3)\n",
      "\n",
      "X_test dataset (1, 3)\n",
      "\n",
      "y_train dataset (2,)\n",
      "\n",
      "y_test dataset (1,)\n",
      "\n"
     ]
    }
   ],
   "source": [
    "import numpy as np\n",
    "from sklearn.model_selection import train_test_split\n",
    "from sklearn.impute import SimpleImputer\n",
    "\n",
    "# Sample data with missing values\n",
    "X = np.array([[1, 2, np.nan], [4, np.nan, 6], [7, 8, 9]])\n",
    "y = np.array([1, 0, 1])  # Example target labels\n",
    "\n",
    "# Creating the Imputer object with the mean strategy\n",
    "imputer = SimpleImputer(strategy='mean')\n",
    "\n",
    "# Fitting the imputer to the data (computing the mean)\n",
    "imputer = imputer.fit(X)\n",
    "\n",
    "# Imputing the data (replacing missing values with the computed mean)\n",
    "X = imputer.transform(X)\n",
    "\n",
    "# Split the data into training and testing sets (80% train, 20% test)\n",
    "X_train, X_test, y_train, y_test = train_test_split(X, y, test_size=0.2, random_state=42)\n",
    "\n",
    "# Display the shapes of the datasets\n",
    "print(f'X_train dataset {X_train.shape}\\n')\n",
    "print(f'X_test dataset {X_test.shape}\\n')\n",
    "print(f'y_train dataset {y_train.shape}\\n')\n",
    "print(f'y_test dataset {y_test.shape}\\n')\n"
   ]
  },
  {
   "cell_type": "markdown",
   "id": "d966708f",
   "metadata": {
    "id": "d966708f"
   },
   "source": [
    "<div class=\"alert alert-block alert-info\">\n",
    "    <b> 7. Train and Predict </b>\n",
    "</div>"
   ]
  },
  {
   "cell_type": "code",
   "execution_count": 19,
   "id": "f8034856",
   "metadata": {
    "colab": {
     "base_uri": "https://localhost:8080/",
     "height": 80
    },
    "executionInfo": {
     "elapsed": 628,
     "status": "ok",
     "timestamp": 1738563322999,
     "user": {
      "displayName": "someshwar undare",
      "userId": "15550385954223999838"
     },
     "user_tz": -330
    },
    "id": "f8034856",
    "outputId": "5aa2a59b-7b6d-4757-8baa-8c67428ba07b"
   },
   "outputs": [
    {
     "name": "stdout",
     "output_type": "stream",
     "text": [
      "Model Accuracy: 0.00%\n"
     ]
    }
   ],
   "source": [
    "# Train the data with machine learning algorithm\n",
    "# write your code here\n",
    "import numpy as np\n",
    "from sklearn.model_selection import train_test_split\n",
    "from sklearn.impute import SimpleImputer\n",
    "from sklearn.linear_model import LogisticRegression\n",
    "from sklearn.metrics import accuracy_score\n",
    "\n",
    "# Sample data with missing values\n",
    "X = np.array([[1, 2, np.nan], [4, np.nan, 6], [7, 8, 9]])\n",
    "y = np.array([1, 0, 1])  # Example target labels\n",
    "\n",
    "# Creating the Imputer object with the mean strategy\n",
    "imputer = SimpleImputer(strategy='mean')\n",
    "\n",
    "# Fitting the imputer to the data (computing the mean)\n",
    "imputer = imputer.fit(X)\n",
    "\n",
    "# Imputing the data (replacing missing values with the computed mean)\n",
    "X = imputer.transform(X)\n",
    "\n",
    "# Split the data into training and testing sets (80% train, 20% test)\n",
    "X_train, X_test, y_train, y_test = train_test_split(X, y, test_size=0.2, random_state=42)\n",
    "\n",
    "# Create and train the Logistic Regression model\n",
    "model = LogisticRegression()\n",
    "\n",
    "# Train the model on the training data\n",
    "model.fit(X_train, y_train)\n",
    "\n",
    "# Predict the target values for the test data\n",
    "y_pred = model.predict(X_test)\n",
    "\n",
    "# Evaluate the model's accuracy\n",
    "accuracy = accuracy_score(y_test, y_pred)\n",
    "\n",
    "print(f'Model Accuracy: {accuracy * 100:.2f}%')\n"
   ]
  },
  {
   "cell_type": "code",
   "execution_count": 20,
   "id": "d5eccbff",
   "metadata": {
    "id": "d5eccbff"
   },
   "outputs": [
    {
     "name": "stdout",
     "output_type": "stream",
     "text": [
      "Predictions: [0]\n"
     ]
    }
   ],
   "source": [
    "# Predict the data with test samples\n",
    "import numpy as np\n",
    "from sklearn.model_selection import train_test_split\n",
    "from sklearn.impute import SimpleImputer\n",
    "from sklearn.linear_model import LogisticRegression\n",
    "\n",
    "# Sample data with missing values\n",
    "X = np.array([[1, 2, np.nan], [4, np.nan, 6], [7, 8, 9]])\n",
    "y = np.array([1, 0, 1])  # Example target labels\n",
    "\n",
    "# Imputer to handle missing values\n",
    "imputer = SimpleImputer(strategy='mean')\n",
    "X = imputer.fit_transform(X)\n",
    "\n",
    "# Split the data\n",
    "X_train, X_test, y_train, y_test = train_test_split(X, y, test_size=0.2, random_state=42)\n",
    "\n",
    "# Train the Logistic Regression model\n",
    "lr = LogisticRegression()\n",
    "lr.fit(X_train, y_train)\n",
    "\n",
    "# Predict the data with test samples\n",
    "y_pred = lr.predict(X_test)\n",
    "\n",
    "# Display predictions\n",
    "print(f'Predictions: {y_pred}')\n"
   ]
  },
  {
   "cell_type": "code",
   "execution_count": 21,
   "id": "lH4GaC8GzEQ9",
   "metadata": {
    "colab": {
     "base_uri": "https://localhost:8080/"
    },
    "executionInfo": {
     "elapsed": 1,
     "status": "ok",
     "timestamp": 1738563326322,
     "user": {
      "displayName": "someshwar undare",
      "userId": "15550385954223999838"
     },
     "user_tz": -330
    },
    "id": "lH4GaC8GzEQ9",
    "outputId": "decf9978-c8ac-40bb-8a4a-0dd8f33a8fe8"
   },
   "outputs": [
    {
     "name": "stdout",
     "output_type": "stream",
     "text": [
      "[0]\n"
     ]
    }
   ],
   "source": [
    "print(y_pred)"
   ]
  },
  {
   "cell_type": "code",
   "execution_count": 22,
   "id": "xTRgJooMzLTa",
   "metadata": {
    "colab": {
     "base_uri": "https://localhost:8080/"
    },
    "executionInfo": {
     "elapsed": 350,
     "status": "ok",
     "timestamp": 1738563328103,
     "user": {
      "displayName": "someshwar undare",
      "userId": "15550385954223999838"
     },
     "user_tz": -330
    },
    "id": "xTRgJooMzLTa",
    "outputId": "03d87147-ba68-401a-f977-be358a622d37"
   },
   "outputs": [
    {
     "name": "stdout",
     "output_type": "stream",
     "text": [
      "Actual values :  [1]\n"
     ]
    }
   ],
   "source": [
    "print(\"Actual values : \",y_test)"
   ]
  },
  {
   "cell_type": "markdown",
   "id": "4e2d14c8",
   "metadata": {
    "id": "4e2d14c8"
   },
   "source": [
    "<div class=\"alert alert-block alert-info\">\n",
    "    <b> 8. Model Visualization</b>\n",
    "</div>"
   ]
  },
  {
   "cell_type": "code",
   "execution_count": 24,
   "id": "5f1c0cc1",
   "metadata": {
    "colab": {
     "base_uri": "https://localhost:8080/",
     "height": 472
    },
    "executionInfo": {
     "elapsed": 917,
     "status": "ok",
     "timestamp": 1738563474322,
     "user": {
      "displayName": "someshwar undare",
      "userId": "15550385954223999838"
     },
     "user_tz": -330
    },
    "id": "5f1c0cc1",
    "outputId": "686e71d0-23da-4666-d551-656b259024d5"
   },
   "outputs": [
    {
     "data": {
      "image/png": "[encoded data removed]",
      "text/plain": [
       "<Figure size 640x480 with 1 Axes>"
      ]
     },
     "metadata": {},
     "output_type": "display_data"
    }
   ],
   "source": [
    "# https://matplotlib.org/stable/gallery/color/named_colors.html--for colors\n",
    "# Training set points\n",
    "import numpy as np\n",
    "import matplotlib.pyplot as plt\n",
    "from sklearn.model_selection import train_test_split\n",
    "from sklearn.impute import SimpleImputer\n",
    "from sklearn.linear_model import LogisticRegression\n",
    "\n",
    "# Sample data with missing values\n",
    "X = np.array([[1, 2, np.nan], [4, np.nan, 6], [7, 8, 9]])\n",
    "y = np.array([1, 0, 1])  # Example target labels\n",
    "\n",
    "# Imputer to handle missing values\n",
    "imputer = SimpleImputer(strategy='mean')\n",
    "X = imputer.fit_transform(X)\n",
    "\n",
    "# Split the data\n",
    "X_train, X_test, y_train, y_test = train_test_split(X, y, test_size=0.2, random_state=42)\n",
    "\n",
    "# Train the Logistic Regression model\n",
    "lr = LogisticRegression()\n",
    "lr.fit(X_train, y_train)\n",
    "\n",
    "# Training set points\n",
    "plt.scatter(X_train[:, 0], y_train, color=\"orange\")  # Ensure you access the correct dimension for X_train\n",
    "plt.title(\"Years of Exp vs Salary (Training Set)\")\n",
    "plt.xlabel(\"Years of Experience\")\n",
    "plt.ylabel(\"Salary\")\n",
    "plt.show()\n"
   ]
  },
  {
   "cell_type": "code",
   "execution_count": 26,
   "id": "1f7b60ed",
   "metadata": {
    "colab": {
     "base_uri": "https://localhost:8080/",
     "height": 472
    },
    "executionInfo": {
     "elapsed": 458,
     "status": "ok",
     "timestamp": 1738563453087,
     "user": {
      "displayName": "someshwar undare",
      "userId": "15550385954223999838"
     },
     "user_tz": -330
    },
    "id": "1f7b60ed",
    "outputId": "80ce6931-6fb4-475c-acd2-767349a0117f"
   },
   "outputs": [
    {
     "data": {
      "image/png": "[encoded data removed]",
      "text/plain": [
       "<Figure size 640x480 with 1 Axes>"
      ]
     },
     "metadata": {},
     "output_type": "display_data"
    }
   ],
   "source": [
    "import numpy as np\n",
    "import matplotlib.pyplot as plt\n",
    "from sklearn.model_selection import train_test_split\n",
    "from sklearn.impute import SimpleImputer\n",
    "from sklearn.linear_model import LogisticRegression\n",
    "\n",
    "# Sample data with missing values\n",
    "X = np.array([[1, 2, np.nan], [4, np.nan, 6], [7, 8, 9]])\n",
    "y = np.array([1, 0, 1])  # Example target labels\n",
    "\n",
    "# Imputer to handle missing values\n",
    "imputer = SimpleImputer(strategy='mean')\n",
    "X = imputer.fit_transform(X)\n",
    "\n",
    "# Split the data\n",
    "X_train, X_test, y_train, y_test = train_test_split(X, y, test_size=0.2, random_state=42)\n",
    "\n",
    "# Train the Logistic Regression model\n",
    "lr = LogisticRegression()\n",
    "lr.fit(X_train, y_train)\n",
    "\n",
    "# Testing set points\n",
    "plt.scatter(X_test[:, 0], y_test, color=\"blue\")  # Access the first column of X_test\n",
    "plt.title(\"Years of Exp vs Salary (Testing Set)\")\n",
    "plt.xlabel(\"Years of Experience\")\n",
    "plt.ylabel(\"Salary\")\n",
    "plt.show()\n"
   ]
  },
  {
   "cell_type": "code",
   "execution_count": 27,
   "id": "59b17f5b",
   "metadata": {
    "colab": {
     "base_uri": "https://localhost:8080/",
     "height": 472
    },
    "executionInfo": {
     "elapsed": 484,
     "status": "ok",
     "timestamp": 1738563428272,
     "user": {
      "displayName": "someshwar undare",
      "userId": "15550385954223999838"
     },
     "user_tz": -330
    },
    "id": "59b17f5b",
    "outputId": "89ebee73-1b26-419a-b1a9-6eb7e27badc2"
   },
   "outputs": [
    {
     "data": {
      "image/png": "[encoded data removed]",
      "text/plain": [
       "<Figure size 640x480 with 1 Axes>"
      ]
     },
     "metadata": {},
     "output_type": "display_data"
    }
   ],
   "source": [
    "# Plot LR Model to the Traning set\n",
    "import numpy as np\n",
    "import matplotlib.pyplot as plt\n",
    "from sklearn.model_selection import train_test_split\n",
    "from sklearn.impute import SimpleImputer\n",
    "from sklearn.linear_model import LogisticRegression\n",
    "\n",
    "# Sample data with missing values\n",
    "X = np.array([[1, 2, np.nan], [4, np.nan, 6], [7, 8, 9]])\n",
    "y = np.array([1, 0, 1])  # Example target labels\n",
    "\n",
    "# Imputer to handle missing values\n",
    "imputer = SimpleImputer(strategy='mean')\n",
    "X = imputer.fit_transform(X)\n",
    "\n",
    "# Split the data\n",
    "X_train, X_test, y_train, y_test = train_test_split(X, y, test_size=0.2, random_state=42)\n",
    "\n",
    "# Train the Logistic Regression model\n",
    "lr = LogisticRegression()\n",
    "lr.fit(X_train, y_train)\n",
    "\n",
    "# Plotting LR model to the Training set\n",
    "plt.scatter(X_train[:, 0], y_train, color=\"lightseagreen\")  # Scatter plot of the training points\n",
    "plt.plot(X_train[:, 0], lr.predict(X_train), color=\"red\")  # Plotting the model's predictions on the training set\n",
    "plt.title(\"Years of Exp vs Salary (Training Set)\")\n",
    "plt.xlabel(\"Years of Experience\")\n",
    "plt.ylabel(\"Salary\")\n",
    "plt.show()\n"
   ]
  },
  {
   "cell_type": "code",
   "execution_count": 28,
   "id": "499404f9",
   "metadata": {
    "colab": {
     "base_uri": "https://localhost:8080/",
     "height": 472
    },
    "executionInfo": {
     "elapsed": 867,
     "status": "ok",
     "timestamp": 1738563392177,
     "user": {
      "displayName": "someshwar undare",
      "userId": "15550385954223999838"
     },
     "user_tz": -330
    },
    "id": "499404f9",
    "outputId": "d3c4b8df-57c1-4bd4-d28f-f58295505378"
   },
   "outputs": [
    {
     "data": {
      "image/png": "[encoded data removed]",
      "text/plain": [
       "<Figure size 640x480 with 1 Axes>"
      ]
     },
     "metadata": {},
     "output_type": "display_data"
    }
   ],
   "source": [
    "# Plot LR Model to the Testing set\n",
    "import numpy as np\n",
    "import matplotlib.pyplot as plt\n",
    "from sklearn.model_selection import train_test_split\n",
    "from sklearn.impute import SimpleImputer\n",
    "from sklearn.linear_model import LogisticRegression\n",
    "\n",
    "# Sample data with missing values\n",
    "X = np.array([[1, 2, np.nan], [4, np.nan, 6], [7, 8, 9]])\n",
    "y = np.array([1, 0, 1])  # Example target labels\n",
    "\n",
    "# Imputer to handle missing values\n",
    "imputer = SimpleImputer(strategy='mean')\n",
    "X = imputer.fit_transform(X)\n",
    "\n",
    "# Split the data\n",
    "X_train, X_test, y_train, y_test = train_test_split(X, y, test_size=0.2, random_state=42)\n",
    "\n",
    "# Train the Logistic Regression model\n",
    "lr = LogisticRegression()\n",
    "lr.fit(X_train, y_train)\n",
    "\n",
    "# Plotting LR model to the Testing set\n",
    "plt.scatter(X_test[:, 0], y_test, color=\"purple\")  # Scatter plot for testing set points\n",
    "plt.plot(X_train[:, 0], lr.predict(X_train), color=\"red\")  # Red line for the logistic regression model on training set\n",
    "plt.title(\"Years of Exp vs Salary (Testing Set)\")\n",
    "plt.xlabel(\"Years of Experience\")\n",
    "plt.ylabel(\"Salary\")\n",
    "plt.show()\n"
   ]
  },
  {
   "cell_type": "markdown",
   "id": "809b56bc",
   "metadata": {
    "id": "809b56bc"
   },
   "source": [
    "<div class=\"alert alert-block alert-info\">\n",
    "    <b> 9. Model Evaluation Results </b>\n",
    "</div>"
   ]
  },
  {
   "cell_type": "code",
   "execution_count": 29,
   "id": "c88eb0d2",
   "metadata": {
    "colab": {
     "base_uri": "https://localhost:8080/",
     "height": 110
    },
    "executionInfo": {
     "elapsed": 603,
     "status": "error",
     "timestamp": 1738564867846,
     "user": {
      "displayName": "someshwar undare",
      "userId": "15550385954223999838"
     },
     "user_tz": -330
    },
    "id": "c88eb0d2",
    "outputId": "93b89b4d-11c9-45c5-8e24-744d806f3d1b"
   },
   "outputs": [
    {
     "name": "stdout",
     "output_type": "stream",
     "text": [
      "LR : Mean Square Error :  1.0\n",
      "LR : RMSE :  1.0\n",
      "LR : R2 Score :  nan\n",
      "LR : Adjusted R2 : nan\n"
     ]
    },
    {
     "name": "stderr",
     "output_type": "stream",
     "text": [
      "c:\\Users\\RUGVED GAIKWAD\\anaconda3\\Lib\\site-packages\\sklearn\\metrics\\_regression.py:1211: UndefinedMetricWarning: R^2 score is not well-defined with less than two samples.\n",
      "  warnings.warn(msg, UndefinedMetricWarning)\n"
     ]
    }
   ],
   "source": [
    "from sklearn.metrics import mean_squared_error\n",
    "from sklearn.metrics import r2_score\n",
    "import numpy as np\n",
    "\n",
    "# Assuming y_pred is already defined as predictions from the model\n",
    "mse_lr = mean_squared_error(y_test, y_pred)\n",
    "rmse_lr = np.sqrt(mse_lr)  # RMSE is the square root of MSE\n",
    "r2_lr = r2_score(y_test, y_pred)\n",
    "\n",
    "# Adjusted R2\n",
    "n = 4601  # Number of observations in the dataset\n",
    "k = 1     # Number of predictor variables\n",
    "adj_r2_score_lr = 1 - ((1 - r2_lr) * (n - 1) / (n - k - 1))\n",
    "\n",
    "# Print the results\n",
    "print(\"LR : Mean Square Error : \", mse_lr)\n",
    "print(\"LR : RMSE : \", rmse_lr)\n",
    "print(\"LR : R2 Score : \", r2_lr)\n",
    "print('LR : Adjusted R2 :', adj_r2_score_lr)\n"
   ]
  }
 ],
 "metadata": {
  "colab": {
   "provenance": []
  },
  "kernelspec": {
   "display_name": "base",
   "language": "python",
   "name": "python3"
  },
  "language_info": {
   "codemirror_mode": {
    "name": "ipython",
    "version": 3
   },
   "file_extension": ".py",
   "mimetype": "text/x-python",
   "name": "python",
   "nbconvert_exporter": "python",
   "pygments_lexer": "ipython3",
   "version": "3.12.7"
  }
 },
 "nbformat": 4,
 "nbformat_minor": 5
}
