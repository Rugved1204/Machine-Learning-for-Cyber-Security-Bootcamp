{
 "cells": [
  {
   "cell_type": "markdown",
   "metadata": {
    "id": "C1dzIp5pGBZ6"
   },
   "source": [
    "#**1. Creating NumPy Arrays**"
   ]
  },
  {
   "cell_type": "markdown",
   "metadata": {
    "id": "BDXYJs0TDhcv"
   },
   "source": [
    "## 1. Create a 1D NumPy array with integers from 1 to 10.\n",
    "\n",
    "Use the np.array method to create the array.\n",
    "\n",
    "Print the created array.\n",
    "\n"
   ]
  },
  {
   "cell_type": "code",
   "execution_count": 1,
   "metadata": {
    "colab": {
     "base_uri": "https://localhost:8080/"
    },
    "executionInfo": {
     "elapsed": 415,
     "status": "ok",
     "timestamp": 1738042404501,
     "user": {
      "displayName": "Sakshi Huddar",
      "userId": "09957534213743010494"
     },
     "user_tz": -330
    },
    "id": "f30FNOulEET3",
    "outputId": "ec0f8a80-8ca2-4507-f4ee-69774dc62475"
   },
   "outputs": [
    {
     "name": "stdout",
     "output_type": "stream",
     "text": [
      "[ 5 10 15]\n",
      "Created 1D array: [ 1  2  3  4  5  6  7  8  9 10]\n"
     ]
    }
   ],
   "source": [
    "# importing library\n",
    "import numpy as np\n",
    "\n",
    "# Example: Creating a 1D array\n",
    "example_array = np.array([5, 10, 15])\n",
    "print(example_array)\n",
    "\n",
    "# Start writing your code here\n",
    "\n",
    "# importing library\n",
    "import numpy as np\n",
    "\n",
    "# Create a 1D NumPy array with integers from 1 to 10\n",
    "array = np.array([1, 2, 3, 4, 5, 6, 7, 8, 9, 10])\n",
    "\n",
    "# Print the created array\n",
    "print(\"Created 1D array:\", array)\n",
    "\n",
    "\n",
    "\n"
   ]
  },
  {
   "cell_type": "markdown",
   "metadata": {
    "id": "SSlt4mISEbEF"
   },
   "source": [
    "## 2. Create a 2D array using np.arange with 12 elements and reshape it into a 3x4 array.\n",
    "\n",
    "Hint: Use reshape to change the dimensions.\n",
    "\n",
    "Print the reshaped array."
   ]
  },
  {
   "cell_type": "code",
   "execution_count": 2,
   "metadata": {
    "colab": {
     "base_uri": "https://localhost:8080/"
    },
    "executionInfo": {
     "elapsed": 6,
     "status": "ok",
     "timestamp": 1738042404913,
     "user": {
      "displayName": "Sakshi Huddar",
      "userId": "09957534213743010494"
     },
     "user_tz": -330
    },
    "id": "wngat5spD4cZ",
    "outputId": "fb01070f-e841-4534-cf04-39d8cd480674"
   },
   "outputs": [
    {
     "name": "stdout",
     "output_type": "stream",
     "text": [
      "[ 5 10 15]\n",
      "Reshaped 3x4 array:\n",
      "[[ 0  1  2  3]\n",
      " [ 4  5  6  7]\n",
      " [ 8  9 10 11]]\n"
     ]
    }
   ],
   "source": [
    "# Example: Creating a 1D array\n",
    "example_array = np.array([5, 10, 15])\n",
    "print(example_array)\n",
    "\n",
    "# Start writing your code here\n",
    "\n",
    "# importing library\n",
    "import numpy as np\n",
    "\n",
    "# Create a 2D array using np.arange with 12 elements\n",
    "array_2d = np.arange(12)\n",
    "\n",
    "# Reshape the array into a 3x4 array\n",
    "reshaped_array = array_2d.reshape(3, 4)\n",
    "\n",
    "# Print the reshaped array\n",
    "print(\"Reshaped 3x4 array:\")\n",
    "print(reshaped_array)\n"
   ]
  },
  {
   "cell_type": "markdown",
   "metadata": {
    "id": "RPQW_7Y78xbh"
   },
   "source": [
    "## 3. Create a 1D NumPy array with integers from 1 to 20.  \n",
    "   - Slice and print elements from index 5 to 15.  \n",
    "   - Reverse the array using slicing.  "
   ]
  },
  {
   "cell_type": "code",
   "execution_count": 3,
   "metadata": {
    "id": "O5OaV-bW-KUe"
   },
   "outputs": [
    {
     "name": "stdout",
     "output_type": "stream",
     "text": [
      "Original array: [ 1  2  3  4  5  6  7  8  9 10 11 12 13 14 15 16 17 18 19 20]\n",
      "Sliced elements (index 5 to 15): [ 6  7  8  9 10 11 12 13 14 15 16]\n",
      "Reversed array: [20 19 18 17 16 15 14 13 12 11 10  9  8  7  6  5  4  3  2  1]\n"
     ]
    }
   ],
   "source": [
    "#Example:\n",
    "# Original array: [1, 2, 3, ..., 20]\n",
    "# Sliced elements: [6, 7, 8, ..., 15]\n",
    "# Reversed array: [20, 19, 18, ..., 1]\n",
    "\n",
    "# Step 1: Create the array\n",
    "# Start writing your code here\n",
    "\n",
    "\n",
    "# Step 2: Now slice the array\n",
    "# Start writing your code here\n",
    "\n",
    "\n",
    "# Step 3: Reverse the array\n",
    "# Start writing your code here\n",
    "\n",
    "# importing library\n",
    "import numpy as np\n",
    "\n",
    "# Step 1: Create the array with integers from 1 to 20\n",
    "array = np.arange(1, 21)\n",
    "\n",
    "# Print the original array\n",
    "print(\"Original array:\", array)\n",
    "\n",
    "# Step 2: Slice the array from index 5 to 15 (inclusive)\n",
    "sliced_array = array[5:16]  # Slice from index 5 to 15\n",
    "print(\"Sliced elements (index 5 to 15):\", sliced_array)\n",
    "\n",
    "# Step 3: Reverse the array using slicing\n",
    "reversed_array = array[::-1]  # Reverse the array\n",
    "print(\"Reversed array:\", reversed_array)\n",
    "\n"
   ]
  },
  {
   "cell_type": "markdown",
   "metadata": {
    "id": "uQtQ3AUgF6-d"
   },
   "source": [
    "# **2. Array Attributes and Properties**"
   ]
  },
  {
   "cell_type": "markdown",
   "metadata": {
    "id": "q-X2iNJJGc73"
   },
   "source": [
    "## 4. Find the number of dimensions, shape, and size of the following array:"
   ]
  },
  {
   "cell_type": "markdown",
   "metadata": {
    "id": "ZdzIFUzjYzke"
   },
   "source": [
    "declare arrays different arrays : scalar, 1D, 2D, 3D\n",
    "and print shape, size, and diemnsions for each array type"
   ]
  },
  {
   "cell_type": "markdown",
   "metadata": {
    "id": "lI2gBCrxGzxl"
   },
   "source": [
    "Use ndim, shape, and size methods to print these properties"
   ]
  },
  {
   "cell_type": "code",
   "execution_count": 5,
   "metadata": {
    "colab": {
     "base_uri": "https://localhost:8080/"
    },
    "executionInfo": {
     "elapsed": 5,
     "status": "ok",
     "timestamp": 1738042404913,
     "user": {
      "displayName": "Sakshi Huddar",
      "userId": "09957534213743010494"
     },
     "user_tz": -330
    },
    "id": "Rs-WYCvEF5yP",
    "outputId": "4eb22ffa-aa43-458c-e3a0-294f42a3123c"
   },
   "outputs": [
    {
     "name": "stdout",
     "output_type": "stream",
     "text": [
      "1\n",
      "(3,)\n",
      "3\n",
      "Scalar Array:\n",
      "ndim: 0\n",
      "shape: ()\n",
      "size: 1\n",
      "\n",
      "1D Array:\n",
      "ndim: 1\n",
      "shape: (5,)\n",
      "size: 5\n",
      "\n",
      "2D Array:\n",
      "ndim: 2\n",
      "shape: (3, 3)\n",
      "size: 9\n",
      "\n",
      "3D Array:\n",
      "ndim: 3\n",
      "shape: (2, 2, 2)\n",
      "size: 8\n"
     ]
    }
   ],
   "source": [
    "# Example:\n",
    "array = np.array([1, 2, 3])\n",
    "print(array.ndim)\n",
    "print(array.shape)\n",
    "print(array.size)\n",
    "\n",
    "\n",
    "# Start writing your code here\n",
    "\n",
    "# importing library\n",
    "import numpy as np\n",
    "\n",
    "# Scalar array (0D array)\n",
    "scalar_array = np.array(42)\n",
    "print(\"Scalar Array:\")\n",
    "print(\"ndim:\", scalar_array.ndim)\n",
    "print(\"shape:\", scalar_array.shape)\n",
    "print(\"size:\", scalar_array.size)\n",
    "print()\n",
    "\n",
    "# 1D array\n",
    "array_1d = np.array([1, 2, 3, 4, 5])\n",
    "print(\"1D Array:\")\n",
    "print(\"ndim:\", array_1d.ndim)\n",
    "print(\"shape:\", array_1d.shape)\n",
    "print(\"size:\", array_1d.size)\n",
    "print()\n",
    "\n",
    "# 2D array\n",
    "array_2d = np.array([[1, 2, 3], [4, 5, 6], [7, 8, 9]])\n",
    "print(\"2D Array:\")\n",
    "print(\"ndim:\", array_2d.ndim)\n",
    "print(\"shape:\", array_2d.shape)\n",
    "print(\"size:\", array_2d.size)\n",
    "print()\n",
    "\n",
    "# 3D array\n",
    "array_3d = np.array([[[1, 2], [3, 4]], [[5, 6], [7, 8]]])\n",
    "print(\"3D Array:\")\n",
    "print(\"ndim:\", array_3d.ndim)\n",
    "print(\"shape:\", array_3d.shape)\n",
    "print(\"size:\", array_3d.size)\n",
    "\n"
   ]
  },
  {
   "cell_type": "markdown",
   "metadata": {
    "id": "3Z4-ohg1HTjy"
   },
   "source": [
    "## 5. Change the shape of a given array to a 2x5 array:"
   ]
  },
  {
   "cell_type": "code",
   "execution_count": 7,
   "metadata": {
    "id": "gveCbzHIHTLa"
   },
   "outputs": [
    {
     "name": "stdout",
     "output_type": "stream",
     "text": [
      "Original array: [0 1 2 3 4 5 6 7 8 9]\n"
     ]
    }
   ],
   "source": [
    "# importing library\n",
    "import numpy as np\n",
    "\n",
    "# Create an array using np.arange with 10 elements\n",
    "arr = np.arange(10)\n",
    "print(\"Original array:\", arr)\n",
    "\n",
    "# Change the shape of the array to 2x5\n",
    "reshaped_arr = arr.reshape(2, 5)\n",
    "\n"
   ]
  },
  {
   "cell_type": "markdown",
   "metadata": {
    "id": "TWkpgmCqHiRg"
   },
   "source": [
    "Print the reshaped array and its new shape."
   ]
  },
  {
   "cell_type": "code",
   "execution_count": 8,
   "metadata": {
    "colab": {
     "base_uri": "https://localhost:8080/"
    },
    "executionInfo": {
     "elapsed": 5,
     "status": "ok",
     "timestamp": 1738042404914,
     "user": {
      "displayName": "Sakshi Huddar",
      "userId": "09957534213743010494"
     },
     "user_tz": -330
    },
    "id": "AiYB28wOHreA",
    "outputId": "3ce65e30-d527-4307-f5d2-ac6451809bd8"
   },
   "outputs": [
    {
     "name": "stdout",
     "output_type": "stream",
     "text": [
      "[[0 1 2]\n",
      " [3 4 5]]\n",
      "Reshaped 2x5 array:\n",
      "[[0 1 2 3 4]\n",
      " [5 6 7 8 9]]\n"
     ]
    }
   ],
   "source": [
    "# Example: Changing shape\n",
    "reshaped_array = np.arange(6).reshape(2, 3)\n",
    "print(reshaped_array)\n",
    "\n",
    "# Start writing your code here\n",
    "# Print the reshaped array\n",
    "print(\"Reshaped 2x5 array:\")\n",
    "print(reshaped_arr)\n",
    "\n",
    "\n"
   ]
  },
  {
   "cell_type": "markdown",
   "metadata": {
    "id": "0Y8Qbw9uHq99"
   },
   "source": [
    "# **3. Array Operations**"
   ]
  },
  {
   "cell_type": "markdown",
   "metadata": {
    "id": "IQl-lTrrH3PA"
   },
   "source": [
    "## 6. Perform basic mathematical operations on two 2D arrays:\n",
    "\n",
    "Create two arrays, A and B, using np.array.\n",
    "\n",
    "Perform addition, subtraction, multiplication, and division operations.\n",
    "\n",
    "Print the results for each operation."
   ]
  },
  {
   "cell_type": "code",
   "execution_count": 9,
   "metadata": {
    "colab": {
     "base_uri": "https://localhost:8080/"
    },
    "executionInfo": {
     "elapsed": 394,
     "status": "ok",
     "timestamp": 1738042547763,
     "user": {
      "displayName": "Sakshi Huddar",
      "userId": "09957534213743010494"
     },
     "user_tz": -330
    },
    "id": "0rqrSBqoILOF",
    "outputId": "6ad61df2-8a65-4b42-f9c7-896498df82a2"
   },
   "outputs": [
    {
     "name": "stdout",
     "output_type": "stream",
     "text": [
      "addition :  [2 4 6 8]\n",
      "Addition:\n",
      " [[ 6  8]\n",
      " [10 12]]\n",
      "Subtraction:\n",
      " [[-4 -4]\n",
      " [-4 -4]]\n",
      "Multiplication:\n",
      " [[ 5 12]\n",
      " [21 32]]\n",
      "Division:\n",
      " [[0.2        0.33333333]\n",
      " [0.42857143 0.5       ]]\n"
     ]
    }
   ],
   "source": [
    "# Example: Element-wise addition\n",
    "A = np.array([1,2,3,4])\n",
    "B = np.array([1,2,3,4])\n",
    "Add=A+B\n",
    "print(\"addition : \",Add)\n",
    "# Start writing your code here\n",
    "\n",
    "# importing library\n",
    "import numpy as np\n",
    "\n",
    "# Create two 2D arrays, A and B\n",
    "A = np.array([[1, 2], [3, 4]])\n",
    "B = np.array([[5, 6], [7, 8]])\n",
    "\n",
    "# Perform element-wise addition\n",
    "addition = A + B\n",
    "print(\"Addition:\\n\", addition)\n",
    "\n",
    "# Perform element-wise subtraction\n",
    "subtraction = A - B\n",
    "print(\"Subtraction:\\n\", subtraction)\n",
    "\n",
    "# Perform element-wise multiplication\n",
    "multiplication = A * B\n",
    "print(\"Multiplication:\\n\", multiplication)\n",
    "\n",
    "# Perform element-wise division\n",
    "division = A / B\n",
    "print(\"Division:\\n\", division)\n"
   ]
  },
  {
   "cell_type": "markdown",
   "metadata": {
    "id": "FaWD1Jx0IAVA"
   },
   "source": [
    "## 7. Calculate the square root of all elements in the following array:"
   ]
  },
  {
   "cell_type": "code",
   "execution_count": 11,
   "metadata": {
    "id": "BSCNMEdZIYlZ"
   },
   "outputs": [],
   "source": [
    "# importing library\n",
    "import numpy as np\n",
    "\n",
    "# Create the array\n",
    "arr = np.array([1, 4, 9, 16, 25])\n"
   ]
  },
  {
   "cell_type": "markdown",
   "metadata": {
    "id": "epBE56gWIYFZ"
   },
   "source": [
    "Use the np.sqrt function to calculate square roots."
   ]
  },
  {
   "cell_type": "code",
   "execution_count": 12,
   "metadata": {
    "id": "02UTMJsQIfcQ"
   },
   "outputs": [
    {
     "name": "stdout",
     "output_type": "stream",
     "text": [
      "Square root of each element: [1. 2. 3. 4. 5.]\n"
     ]
    }
   ],
   "source": [
    "# Start writing your code here\n",
    "# Calculate the square root of all elements using np.sqrt\n",
    "sqrt_arr = np.sqrt(arr)\n",
    "\n",
    "# Print the result\n",
    "print(\"Square root of each element:\", sqrt_arr)\n",
    "\n",
    "\n"
   ]
  },
  {
   "cell_type": "markdown",
   "metadata": {
    "id": "upEvQfNUISLW"
   },
   "source": [
    "# **4. Slicing and Indexing**"
   ]
  },
  {
   "cell_type": "markdown",
   "metadata": {
    "id": "jMLOSDXkIqy_"
   },
   "source": [
    "## 8. Declare 1D array of range 1 to 10 and slice 3 elements from 3"
   ]
  },
  {
   "cell_type": "code",
   "execution_count": 13,
   "metadata": {
    "colab": {
     "base_uri": "https://localhost:8080/"
    },
    "executionInfo": {
     "elapsed": 375,
     "status": "ok",
     "timestamp": 1738042778247,
     "user": {
      "displayName": "Sakshi Huddar",
      "userId": "09957534213743010494"
     },
     "user_tz": -330
    },
    "id": "yaC6xoOMIqbF",
    "outputId": "e0a91a39-d63d-42f6-d1dd-e2e41c8adc0f"
   },
   "outputs": [
    {
     "name": "stdout",
     "output_type": "stream",
     "text": [
      "Original array: [1 2 3 4 5 6 7 8 9]\n",
      "Sliced array: [4 5 6]\n"
     ]
    }
   ],
   "source": [
    "# importing library\n",
    "import numpy as np\n",
    "\n",
    "# Declare a 1D array with a range from 1 to 10\n",
    "arr = np.arange(1, 10)\n",
    "print(\"Original array:\", arr)\n",
    "\n",
    "# Slice 3 elements from index 3\n",
    "arr1 = arr[3:6]\n",
    "print(\"Sliced array:\", arr1)\n"
   ]
  },
  {
   "cell_type": "markdown",
   "metadata": {
    "id": "5LWttFO-bD1V"
   },
   "source": [
    "## 9. Perform similar opertations on 2D and 3D arrays"
   ]
  },
  {
   "cell_type": "code",
   "execution_count": 14,
   "metadata": {
    "id": "bPyr-vDwI3-g"
   },
   "outputs": [
    {
     "name": "stdout",
     "output_type": "stream",
     "text": [
      "Original 2D Array:\n",
      "[[1 2 3]\n",
      " [4 5 6]\n",
      " [7 8 9]]\n",
      "\n",
      "Sliced 2D Array:\n",
      "[[5 6]\n",
      " [8 9]]\n",
      "\n",
      "Original 3D Array:\n",
      "[[[ 1  2  3]\n",
      "  [ 4  5  6]\n",
      "  [ 7  8  9]]\n",
      "\n",
      " [[10 11 12]\n",
      "  [13 14 15]\n",
      "  [16 17 18]]]\n",
      "\n",
      "Sliced 3D Array:\n",
      "[[10 11]\n",
      " [13 14]]\n"
     ]
    }
   ],
   "source": [
    "# Start writing your code here\n",
    "# importing library\n",
    "import numpy as np\n",
    "\n",
    "# Create a 2D array (3x3)\n",
    "arr_2d = np.array([[1, 2, 3], [4, 5, 6], [7, 8, 9]])\n",
    "print(\"Original 2D Array:\")\n",
    "print(arr_2d)\n",
    "\n",
    "# Slice 2D array: Take rows 1 to 2 and columns 1 to 2\n",
    "arr_2d_slice = arr_2d[1:3, 1:3]\n",
    "print(\"\\nSliced 2D Array:\")\n",
    "print(arr_2d_slice)\n",
    "\n",
    "\n",
    "# Create a 3D array (2x3x3)\n",
    "arr_3d = np.array([[[1, 2, 3], [4, 5, 6], [7, 8, 9]], [[10, 11, 12], [13, 14, 15], [16, 17, 18]]])\n",
    "print(\"\\nOriginal 3D Array:\")\n",
    "print(arr_3d)\n",
    "\n",
    "# Slice 3D array: Take 2nd matrix and first 2 rows and 2 columns\n",
    "arr_3d_slice = arr_3d[1, :2, :2]\n",
    "print(\"\\nSliced 3D Array:\")\n",
    "print(arr_3d_slice)\n",
    "\n"
   ]
  },
  {
   "cell_type": "markdown",
   "metadata": {
    "id": "y76Lk9UFKedV"
   },
   "source": [
    "## 10. Flatten the following 2D array into a 1D array:"
   ]
  },
  {
   "cell_type": "code",
   "execution_count": null,
   "metadata": {
    "id": "s0gehxn2KiFV"
   },
   "outputs": [],
   "source": [
    "arr = np.array([[1, 2, 3], [4, 5, 6]])"
   ]
  },
  {
   "cell_type": "markdown",
   "metadata": {
    "id": "unvH3ZnpKi8I"
   },
   "source": [
    "Use the ravel function to flatten the array."
   ]
  },
  {
   "cell_type": "code",
   "execution_count": 15,
   "metadata": {
    "id": "0Ht7I45TKrI_"
   },
   "outputs": [
    {
     "name": "stdout",
     "output_type": "stream",
     "text": [
      "Original 2D Array:\n",
      "[[1 2 3]\n",
      " [4 5 6]]\n",
      "\n",
      "Flattened 1D Array:\n",
      "[1 2 3 4 5 6]\n"
     ]
    }
   ],
   "source": [
    "# Start writing your code here\n",
    "# importing library\n",
    "import numpy as np\n",
    "\n",
    "# Create a 2D array\n",
    "arr = np.array([[1, 2, 3], [4, 5, 6]])\n",
    "print(\"Original 2D Array:\")\n",
    "print(arr)\n",
    "\n",
    "# Flatten the array using ravel\n",
    "flattened_arr = np.ravel(arr)\n",
    "print(\"\\nFlattened 1D Array:\")\n",
    "print(flattened_arr)\n"
   ]
  },
  {
   "cell_type": "markdown",
   "metadata": {
    "id": "BtahJKc7Kvvl"
   },
   "source": [
    "# **5. Statistical Operations**"
   ]
  },
  {
   "cell_type": "markdown",
   "metadata": {
    "id": "AkvuUuFG-z9c"
   },
   "source": [
    "## 11. Generate a 4x4 NumPy array with random integers between 10 and 50.\n",
    "   - Find the maximum and minimum values along each row."
   ]
  },
  {
   "cell_type": "code",
   "execution_count": 16,
   "metadata": {
    "id": "gC3lSfuM-LTY"
   },
   "outputs": [
    {
     "name": "stdout",
     "output_type": "stream",
     "text": [
      "Generated Array:\n",
      "[[35 18 10 18]\n",
      " [20 46 41 32]\n",
      " [12 22 28 44]\n",
      " [20 29 19 38]]\n",
      "\n",
      "Max values per row: [35 46 44 38]\n",
      "Min values per row: [10 20 12 19]\n"
     ]
    }
   ],
   "source": [
    "# Example:\n",
    "# Array:\n",
    "# [[12, 45, 23, 34],\n",
    "#  [25, 16, 10, 40],\n",
    "#  [33, 44, 12, 18],\n",
    "#  [50, 29, 30, 19]]\n",
    "# Max values per row: [45, 40, 44, 50]\n",
    "# Min values per row: [12, 10, 12, 19]\n",
    "#Use np.max, np.min, and np.sum with the axis parameter.\n",
    "\n",
    "\n",
    "# Step 1: Generate the array\n",
    "# Start writing your code here\n",
    "# importing library\n",
    "import numpy as np\n",
    "arr = np.random.randint(10, 51, size=(4, 4))\n",
    "print(\"Generated Array:\")\n",
    "print(arr)\n",
    "\n",
    "# Step 2: Find max and min values along each row\n",
    "# Start writing your code here\n",
    "\n",
    "max_values = np.max(arr, axis=1)\n",
    "min_values = np.min(arr, axis=1)\n",
    "\n",
    "print(\"\\nMax values per row:\", max_values)\n",
    "print(\"Min values per row:\", min_values)\n",
    "\n"
   ]
  },
  {
   "cell_type": "markdown",
   "metadata": {
    "id": "cTYwHGg__DkJ"
   },
   "source": [
    "## 12. Write a program to create a 5x5 identity matrix using NumPy. Replace all diagonal elements with 10."
   ]
  },
  {
   "cell_type": "code",
   "execution_count": 17,
   "metadata": {
    "id": "Y5QypOyO_M8e"
   },
   "outputs": [
    {
     "name": "stdout",
     "output_type": "stream",
     "text": [
      "Identity matrix:\n",
      "[[1. 0. 0. 0. 0.]\n",
      " [0. 1. 0. 0. 0.]\n",
      " [0. 0. 1. 0. 0.]\n",
      " [0. 0. 0. 1. 0.]\n",
      " [0. 0. 0. 0. 1.]]\n",
      "\n",
      "After replacing diagonal elements with 10:\n",
      "[[10.  0.  0.  0.  0.]\n",
      " [ 0. 10.  0.  0.  0.]\n",
      " [ 0.  0. 10.  0.  0.]\n",
      " [ 0.  0.  0. 10.  0.]\n",
      " [ 0.  0.  0.  0. 10.]]\n"
     ]
    }
   ],
   "source": [
    "# Example:\n",
    "# Identity matrix:\n",
    "# [[1, 0, 0, 0, 0],\n",
    "#  [0, 1, 0, 0, 0],\n",
    "#  [0, 0, 1, 0, 0],\n",
    "#  [0, 0, 0, 1, 0],\n",
    "#  [0, 0, 0, 0, 1]]\n",
    "# After replacing diagonal elements:\n",
    "# [[10, 0, 0, 0, 0],\n",
    "#  [0, 10, 0, 0, 0],\n",
    "#  [0, 0, 10, 0, 0],\n",
    "#  [0, 0, 0, 10, 0],\n",
    "#  [0, 0, 0, 0, 10]]\n",
    "\n",
    "# Step 1: Create the identity matrix\n",
    "# Start writing your code here\n",
    "identity_matrix = np.eye(5)\n",
    "print(\"Identity matrix:\")\n",
    "print(identity_matrix)\n",
    "\n",
    "# Step 2: Replace diagonal elements\n",
    "# Start writing your code here\n",
    "np.fill_diagonal(identity_matrix, 10)\n",
    "print(\"\\nAfter replacing diagonal elements with 10:\")\n",
    "print(identity_matrix)\n",
    "\n"
   ]
  },
  {
   "cell_type": "markdown",
   "metadata": {
    "id": "oRrQeByZ_EAy"
   },
   "source": [
    "## 13. Generate a 3D NumPy array (3x3x3) with random integers between 1 and 100.\n",
    "  - Flatten the array into a 1D array.\n",
    "  - Reshape it back into its original dimensions."
   ]
  },
  {
   "cell_type": "code",
   "execution_count": 18,
   "metadata": {
    "id": "HdCxnSMgAO6d"
   },
   "outputs": [
    {
     "name": "stdout",
     "output_type": "stream",
     "text": [
      "Original 3D array:\n",
      "[[[85 78 71]\n",
      "  [59 94 60]\n",
      "  [65 66 70]]\n",
      "\n",
      " [[32 79  4]\n",
      "  [85 79 46]\n",
      "  [74 99 95]]\n",
      "\n",
      " [[79 18 79]\n",
      "  [42 44 67]\n",
      "  [65 27 22]]]\n",
      "\n",
      "Flattened array:\n",
      "[85 78 71 59 94 60 65 66 70 32 79  4 85 79 46 74 99 95 79 18 79 42 44 67\n",
      " 65 27 22]\n",
      "\n",
      "Reshaped array:\n",
      "[[[85 78 71]\n",
      "  [59 94 60]\n",
      "  [65 66 70]]\n",
      "\n",
      " [[32 79  4]\n",
      "  [85 79 46]\n",
      "  [74 99 95]]\n",
      "\n",
      " [[79 18 79]\n",
      "  [42 44 67]\n",
      "  [65 27 22]]]\n"
     ]
    }
   ],
   "source": [
    "# Example:\n",
    "# Original 3D array:\n",
    "# [[[11, 22, 33],\n",
    "#   [44, 55, 66],\n",
    "#   [77, 88, 99]],\n",
    "#  [[15, 25, 35],\n",
    "#   [45, 55, 65],\n",
    "#   [75, 85, 95]],\n",
    "#  [[12, 24, 36],\n",
    "#   [48, 60, 72],\n",
    "#   [84, 96, 18]]]\n",
    "# Flattened array: [11, 22, 33, ..., 18]\n",
    "# Reshaped array:\n",
    "# [[[11, 22, 33],\n",
    "#   [44, 55, 66],\n",
    "#   [77, 88, 99]],\n",
    "#  [[15, 25, 35],\n",
    "#   [45, 55, 65],\n",
    "#   [75, 85, 95]],\n",
    "#  [[12, 24, 36],\n",
    "#   [48, 60, 72],\n",
    "#   [84, 96, 18]]]\n",
    "\n",
    "# Step 1: Generate the 3D array\n",
    "# Start writing your code here\n",
    "arr_3d = np.random.randint(1, 101, size=(3, 3, 3))\n",
    "print(\"Original 3D array:\")\n",
    "print(arr_3d)\n",
    "\n",
    "# Step 2: Flatten the array\n",
    "# Start writing your code here\n",
    "flattened_arr = arr_3d.ravel()\n",
    "print(\"\\nFlattened array:\")\n",
    "print(flattened_arr)\n",
    "\n",
    "# Step 3: Reshape it back\n",
    "# Start writing your code here\n",
    "reshaped_arr = flattened_arr.reshape(3, 3, 3)\n",
    "print(\"\\nReshaped array:\")\n",
    "print(reshaped_arr)\n",
    "\n",
    "\n"
   ]
  },
  {
   "cell_type": "markdown",
   "metadata": {
    "id": "bZnRaKznAPYx"
   },
   "source": [
    "## 14. Create a NumPy array of 20 evenly spaced numbers between 0 and 10.\n",
    "  - Compute and display the sine and cosine values for each number."
   ]
  },
  {
   "cell_type": "code",
   "execution_count": 19,
   "metadata": {
    "id": "Od4cSJErAM3e"
   },
   "outputs": [
    {
     "name": "stdout",
     "output_type": "stream",
     "text": [
      "Array: [ 0.          0.52631579  1.05263158  1.57894737  2.10526316  2.63157895\n",
      "  3.15789474  3.68421053  4.21052632  4.73684211  5.26315789  5.78947368\n",
      "  6.31578947  6.84210526  7.36842105  7.89473684  8.42105263  8.94736842\n",
      "  9.47368421 10.        ]\n",
      "\n",
      "Sine values: [ 0.          0.50235115  0.86872962  0.99996678  0.86054034  0.48818921\n",
      " -0.01630136 -0.5163796  -0.87668803 -0.99970104 -0.85212237 -0.47389753\n",
      "  0.03259839  0.53027082  0.88441346  0.99916962  0.84347795  0.4594799\n",
      " -0.04888676 -0.54402111]\n",
      "Cosine values: [ 1.          0.8646637   0.49528663 -0.00815095 -0.5093823  -0.87273782\n",
      " -0.99986712 -0.8563598  -0.48105935  0.02445069  0.52334259  0.88058\n",
      "  0.99946853  0.84782832  0.46670422 -0.04074393 -0.53716381 -0.88818817\n",
      " -0.99880433 -0.83907153]\n"
     ]
    }
   ],
   "source": [
    " # Example:\n",
    "# Array: [0.0, 0.526, 1.053, ..., 10.0]\n",
    "# Sine values: [0.0, 0.502, 0.868, ..., -0.544]\n",
    "# Cosine values: [1.0, 0.864, 0.496, ..., -0.839]\n",
    "\n",
    "import numpy as np\n",
    "\n",
    "# Step 1: Create the array of 20 evenly spaced numbers between 0 and 10\n",
    "arr = np.linspace(0, 10, 20)\n",
    "print(\"Array:\", arr)\n",
    "\n",
    "# Step 2: Compute sine and cosine values for each number\n",
    "sine_values = np.sin(arr)\n",
    "cosine_values = np.cos(arr)\n",
    "\n",
    "print(\"\\nSine values:\", sine_values)\n",
    "print(\"Cosine values:\", cosine_values)\n"
   ]
  },
  {
   "cell_type": "markdown",
   "metadata": {
    "id": "Jkw4kKt4Li7U"
   },
   "source": [
    "## 15. Calculate the standard deviation of the following array:"
   ]
  },
  {
   "cell_type": "code",
   "execution_count": null,
   "metadata": {
    "id": "42KYhlvzAgvg"
   },
   "outputs": [],
   "source": [
    "arr = np.array([10, 20, 30, 40, 50])"
   ]
  },
  {
   "cell_type": "markdown",
   "metadata": {
    "id": "0Dt22F3vLope"
   },
   "source": [
    "Use the np.std function to find the standard deviation."
   ]
  },
  {
   "cell_type": "code",
   "execution_count": 20,
   "metadata": {
    "id": "9uvTZLGzLzNl"
   },
   "outputs": [
    {
     "name": "stdout",
     "output_type": "stream",
     "text": [
      "Standard Deviation: 14.142135623730951\n"
     ]
    }
   ],
   "source": [
    "# Start writing your code here\n",
    "# importing library\n",
    "import numpy as np\n",
    "\n",
    "# Step 1: Define the array\n",
    "arr = np.array([10, 20, 30, 40, 50])\n",
    "\n",
    "# Step 2: Calculate the standard deviation\n",
    "std_deviation = np.std(arr)\n",
    "\n",
    "print(\"Standard Deviation:\", std_deviation)\n",
    "\n"
   ]
  }
 ],
 "metadata": {
  "colab": {
   "authorship_tag": "ABX9TyPnQ9Gw/lzZvvlovrVl/JeR",
   "provenance": []
  },
  "kernelspec": {
   "display_name": "base",
   "language": "python",
   "name": "python3"
  },
  "language_info": {
   "codemirror_mode": {
    "name": "ipython",
    "version": 3
   },
   "file_extension": ".py",
   "mimetype": "text/x-python",
   "name": "python",
   "nbconvert_exporter": "python",
   "pygments_lexer": "ipython3",
   "version": "3.12.7"
  }
 },
 "nbformat": 4,
 "nbformat_minor": 0
}
