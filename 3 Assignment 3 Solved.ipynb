{
 "cells": [
  {
   "cell_type": "markdown",
   "metadata": {
    "id": "0G2REV0wPrd8"
   },
   "source": [
    "<div class=\"alert alert-block alert-success\"> <center> <span style=\"color:gray\">\n",
    "\n",
    "# __ Decision Tree __\n",
    "</span></div>\n",
    "\n",
    "***"
   ]
  },
  {
   "cell_type": "markdown",
   "metadata": {
    "id": "krvCeIRUQIak"
   },
   "source": [
    "**Step 1:** Identify Code Sections for the Assignment\n",
    "\n",
    "Review your Jupyter Notebook: Go through your code and pinpoint sections suitable for the assignment. These could be parts where students need to:\n",
    "\n",
    "Implement a specific algorithm or function.\n",
    "Apply data preprocessing techniques.\n",
    "Perform model evaluation.\n",
    "Visualize data.\n",
    "Choose sections to remove or modify: Select the code parts you want students to fill in. Consider the assignment's difficulty and learning objectives.\n",
    "\n",
    "**Step 2:** Create Instructions and Placeholders\n",
    "\n",
    "Add Markdown cells for instructions: Insert Markdown cells before each code section you've identified for the assignment.\n",
    "\n"
   ]
  },
  {
   "cell_type": "code",
   "execution_count": 2,
   "metadata": {
    "id": "4-OYAdJAPrd9"
   },
   "outputs": [],
   "source": [
    "import pandas as pd\n",
    "import numpy as np\n",
    "import matplotlib.pyplot as plt\n",
    "from sklearn.tree import DecisionTreeRegressor\n",
    "from sklearn.preprocessing import StandardScaler\n",
    "from sklearn.model_selection import train_test_split\n",
    "from sklearn import metrics"
   ]
  },
  {
   "cell_type": "code",
   "execution_count": 8,
   "metadata": {
    "id": "ygAtKcXZPrd9"
   },
   "outputs": [],
   "source": [
    "# =====================================\n",
    "# Load in our dataset\n",
    "# =====================================\n",
    "ic_data = pd.read_csv(\"IceCreamData.csv\")\n"
   ]
  },
  {
   "cell_type": "code",
   "execution_count": 9,
   "metadata": {
    "id": "xelJIu4QPrd9",
    "outputId": "5b65d075-a198-4d57-8bbf-45d188e7d559"
   },
   "outputs": [
    {
     "data": {
      "text/html": [
       "<div>\n",
       "<style scoped>\n",
       "    .dataframe tbody tr th:only-of-type {\n",
       "        vertical-align: middle;\n",
       "    }\n",
       "\n",
       "    .dataframe tbody tr th {\n",
       "        vertical-align: top;\n",
       "    }\n",
       "\n",
       "    .dataframe thead th {\n",
       "        text-align: right;\n",
       "    }\n",
       "</style>\n",
       "<table border=\"1\" class=\"dataframe\">\n",
       "  <thead>\n",
       "    <tr style=\"text-align: right;\">\n",
       "      <th></th>\n",
       "      <th>Temperature</th>\n",
       "      <th>Revenue</th>\n",
       "    </tr>\n",
       "  </thead>\n",
       "  <tbody>\n",
       "    <tr>\n",
       "      <th>0</th>\n",
       "      <td>24.566884</td>\n",
       "      <td>534.799028</td>\n",
       "    </tr>\n",
       "    <tr>\n",
       "      <th>1</th>\n",
       "      <td>26.005191</td>\n",
       "      <td>625.190122</td>\n",
       "    </tr>\n",
       "    <tr>\n",
       "      <th>2</th>\n",
       "      <td>27.790554</td>\n",
       "      <td>660.632289</td>\n",
       "    </tr>\n",
       "    <tr>\n",
       "      <th>3</th>\n",
       "      <td>20.595335</td>\n",
       "      <td>487.706960</td>\n",
       "    </tr>\n",
       "    <tr>\n",
       "      <th>4</th>\n",
       "      <td>11.503498</td>\n",
       "      <td>316.240194</td>\n",
       "    </tr>\n",
       "  </tbody>\n",
       "</table>\n",
       "</div>"
      ],
      "text/plain": [
       "   Temperature     Revenue\n",
       "0    24.566884  534.799028\n",
       "1    26.005191  625.190122\n",
       "2    27.790554  660.632289\n",
       "3    20.595335  487.706960\n",
       "4    11.503498  316.240194"
      ]
     },
     "execution_count": 9,
     "metadata": {},
     "output_type": "execute_result"
    }
   ],
   "source": [
    "ic_data.head()"
   ]
  },
  {
   "cell_type": "code",
   "execution_count": 10,
   "metadata": {
    "id": "0aG_JZ8jPrd-"
   },
   "outputs": [],
   "source": [
    "# Get the data value in separate variables\n",
    "X = ic_data['Temperature'].values\n",
    "y = ic_data['Revenue'].values"
   ]
  },
  {
   "cell_type": "code",
   "execution_count": 6,
   "metadata": {
    "id": "3Xo3MFgwPrd-"
   },
   "outputs": [],
   "source": [
    "# =====================================\n",
    "# Data preprocessing\n",
    "# =====================================\n",
    "\n",
    "# Using standard scalar encoding\n",
    "en_sc = StandardScaler()\n",
    "X = en_sc.fit_transform(X.reshape(-1,1))"
   ]
  },
  {
   "cell_type": "code",
   "execution_count": 7,
   "metadata": {
    "id": "pHda5lYNPrd_"
   },
   "outputs": [],
   "source": [
    "# =====================================\n",
    "# Split the data into train and test part\n",
    "# =====================================\n",
    "x_train, x_test, y_train, y_test = train_test_split(X, y, test_size = 0.25, random_state = 5)"
   ]
  },
  {
   "cell_type": "markdown",
   "metadata": {
    "id": "2xUpR-qvP-2d"
   },
   "source": [
    "### Task 3: Train the Decision Tree Model\n",
    "\n",
    "In this section, you will train a Decision Tree Regressor model using the training data.\n",
    "\n",
    "**Instructions:**\n",
    "\n",
    "1.  Initialize a DecisionTreeRegressor object.\n",
    "2.  Fit the model to the training data (`x_train` and `y_train`)."
   ]
  },
  {
   "cell_type": "code",
   "execution_count": 15,
   "metadata": {
    "id": "x_p0vYuMP_00"
   },
   "outputs": [
    {
     "name": "stdout",
     "output_type": "stream",
     "text": [
      "Mean Squared Error: 1328.7245076491977\n",
      "R2 Score: 0.9534772958686918\n"
     ]
    },
    {
     "data": {
      "image/png": "[encoded data removed]",
      "text/plain": [
       "<Figure size 640x480 with 1 Axes>"
      ]
     },
     "metadata": {},
     "output_type": "display_data"
    }
   ],
   "source": [
    "# Import necessary libraries\n",
    "import numpy as np\n",
    "import pandas as pd\n",
    "import matplotlib.pyplot as plt\n",
    "from sklearn.model_selection import train_test_split\n",
    "from sklearn.tree import DecisionTreeRegressor\n",
    "from sklearn.metrics import mean_squared_error, r2_score\n",
    "\n",
    "# Load the dataset\n",
    "ic_data = pd.read_csv(\"IceCreamData.csv\")\n",
    "\n",
    "# Define features (X) and target variable (y)\n",
    "X = ic_data[['Temperature']]  # Feature\n",
    "y = ic_data['Revenue']  # Target variable\n",
    "\n",
    "# Split the dataset into training and testing sets (80% train, 20% test)\n",
    "X_train, X_test, y_train, y_test = train_test_split(X, y, test_size=0.2, random_state=42)\n",
    "\n",
    "# Step 1: Initialize the Decision Tree Regressor\n",
    "dt_regressor = DecisionTreeRegressor(random_state=42)\n",
    "\n",
    "# Step 2: Train the model on the training data\n",
    "dt_regressor.fit(X_train, y_train)\n",
    "\n",
    "# Step 3: Make predictions on the test set\n",
    "y_pred = dt_regressor.predict(X_test)\n",
    "\n",
    "# Step 4: Evaluate the model\n",
    "mse = mean_squared_error(y_test, y_pred)\n",
    "r2 = r2_score(y_test, y_pred)\n",
    "\n",
    "print(\"Mean Squared Error:\", mse)\n",
    "print(\"R2 Score:\", r2)\n",
    "\n",
    "# Step 5: Visualize the Decision Tree Predictions\n",
    "plt.scatter(X_test, y_test, color=\"blue\", label=\"Actual Revenue\")\n",
    "plt.scatter(X_test, y_pred, color=\"red\", label=\"Predicted Revenue\")\n",
    "plt.xlabel(\"Temperature\")\n",
    "plt.ylabel(\"Revenue\")\n",
    "plt.title(\"Decision Tree Regression: Temperature vs Revenue\")\n",
    "plt.legend()\n",
    "plt.show()\n"
   ]
  },
  {
   "cell_type": "code",
   "execution_count": 18,
   "metadata": {
    "id": "ZqVU62SsPrd_"
   },
   "outputs": [
    {
     "name": "stdout",
     "output_type": "stream",
     "text": [
      "Predicted Revenue: [702.9940111 649.729072  603.2329422 521.7754452 612.2437215 278.4182651\n",
      " 293.9263927 303.7343815 528.1162401 696.6401775 733.215828  414.423028\n",
      " 413.9140669 679.3177906  10.        216.183462  550.2785159 569.6187562\n",
      " 563.2509867 702.9940111 523.1245467 756.9625616 726.2337713 526.5470649\n",
      " 926.0671533 662.5589903 303.7343815 642.3498137 773.9247547 690.7892959\n",
      " 473.5681122 496.0112948 702.6236136 809.6720534 651.5043041 499.4583433\n",
      " 793.079011  339.1095829 276.3733742 118.8121496 550.7014036 241.2785475\n",
      " 553.1196514 395.2737497 473.5681122 579.3073878 531.7424848 118.8121496\n",
      " 541.2936627 546.6938576 581.0740052 520.4703098 451.4507843 521.7754452\n",
      " 570.9909316 642.3498137 603.3053386 629.8937918 170.2377561 631.3182368\n",
      " 550.7014036 696.7166402 516.5486011 642.3498137 618.2357655 441.5087331\n",
      " 545.9039291 499.4583433 773.9247547 274.0656189 339.1095829 450.4732071\n",
      " 807.5412872 401.4330183 512.5881071 698.9718063 800.2024937 421.621505\n",
      " 499.4583433 499.4583433 506.4321353 496.4613625 641.0253891 542.8391063\n",
      " 603.3246306 690.7892959 212.5917401 627.6508336 563.2509867 774.1080813\n",
      " 413.9140669 535.8667293 646.2669458 367.9407438 586.150568  607.5421478\n",
      " 651.5043041 633.5040087 441.5087331 427.2113597]\n"
     ]
    }
   ],
   "source": [
    "\n",
    "# Predict the model with testing data\n",
    "labels = dt_regressor.predict(X_test)  \n",
    "\n",
    "# Display predictions\n",
    "print(\"Predicted Revenue:\", labels)\n",
    "\n",
    "\n"
   ]
  },
  {
   "cell_type": "code",
   "execution_count": 19,
   "metadata": {
    "executionInfo": {
     "elapsed": 502,
     "status": "ok",
     "timestamp": 1738140769555,
     "user": {
      "displayName": "someshwar undare",
      "userId": "15550385954223999838"
     },
     "user_tz": -330
    },
    "id": "OFt4Pw0WPrd_"
   },
   "outputs": [
    {
     "name": "stdout",
     "output_type": "stream",
     "text": [
      "Mean Squared Error (MSE): 1328.7245076491977\n",
      "Root Mean Squared Error (RMSE): 36.451673591883235\n",
      "R² Score: 0.9534772958686918\n"
     ]
    }
   ],
   "source": [
    "# ===================\n",
    "# Evaluate the model\n",
    "# ===================\n",
    "#from sklearn.metrics import mean_squared_error, r2_score\n",
    "\n",
    "# ===================\n",
    "# Evaluate the model\n",
    "# ===================\n",
    "\n",
    "# Mean Squared Error (MSE)\n",
    "mse = mean_squared_error(y_test, labels)\n",
    "\n",
    "# Root Mean Squared Error (RMSE)\n",
    "rmse = np.sqrt(mse)\n",
    "\n",
    "# R² Score\n",
    "r2 = r2_score(y_test, labels)\n",
    "\n",
    "# Print evaluation metrics\n",
    "print(\"Mean Squared Error (MSE):\", mse)\n",
    "print(\"Root Mean Squared Error (RMSE):\", rmse)\n",
    "print(\"R² Score:\", r2)\n"
   ]
  }
 ],
 "metadata": {
  "colab": {
   "provenance": []
  },
  "kernelspec": {
   "display_name": "base",
   "language": "python",
   "name": "python3"
  },
  "language_info": {
   "codemirror_mode": {
    "name": "ipython",
    "version": 3
   },
   "file_extension": ".py",
   "mimetype": "text/x-python",
   "name": "python",
   "nbconvert_exporter": "python",
   "pygments_lexer": "ipython3",
   "version": "3.12.7"
  }
 },
 "nbformat": 4,
 "nbformat_minor": 0
}
